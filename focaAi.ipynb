{
 "cells": [
  {
   "cell_type": "code",
   "execution_count": null,
   "metadata": {},
   "outputs": [
    {
     "name": "stdout",
     "output_type": "stream",
     "text": [
      "Páginas mais relevantes para a questão:\n",
      "Página 176 com similaridade 0.6635\n",
      "Página 20 com similaridade 0.6406\n",
      "Página 27 com similaridade 0.6206\n",
      "Página 19 com similaridade 0.5968\n",
      "Página 121 com similaridade 0.5941\n"
     ]
    }
   ],
   "source": [
    "from sentence_transformers import SentenceTransformer, util\n",
    "import fitz  # PyMuPDF\n",
    "\n",
    "# Carrega o modelo de embeddings\n",
    "modelo = SentenceTransformer('all-MiniLM-L6-v2')  # Você pode escolher outro modelo Sentence-BERT\n",
    "\n",
    "def gerar_embeddings_paginas(pdf_path):\n",
    "    \"\"\"\n",
    "    Gera embeddings para cada página do PDF e armazena em um dicionário.\n",
    "    \"\"\"\n",
    "    embeddings_paginas = {}\n",
    "    documento = fitz.open(pdf_path)\n",
    "    \n",
    "    for numero_pagina in range(documento.page_count):\n",
    "        pagina = documento.load_page(numero_pagina)\n",
    "        texto_pagina = pagina.get_text()  # Extrai o texto da página\n",
    "        \n",
    "        # Gera o embedding da página\n",
    "        embedding = modelo.encode(texto_pagina, convert_to_tensor=True)\n",
    "        embeddings_paginas[numero_pagina + 1] = embedding\n",
    "    \n",
    "    return embeddings_paginas\n",
    "\n",
    "def encontrar_paginas_relevantes(questao, embeddings_paginas, top_n=5):\n",
    "    \"\"\"\n",
    "    Dada uma questão, retorna as páginas mais relevantes usando embeddings de similaridade.\n",
    "    \"\"\"\n",
    "    # Gera o embedding da questão\n",
    "    embedding_questao = modelo.encode(questao, convert_to_tensor=True)\n",
    "    \n",
    "    # Calcula a similaridade entre o embedding da questão e cada embedding de página\n",
    "    similaridades = []\n",
    "    for numero_pagina, embedding_pagina in embeddings_paginas.items():\n",
    "        similaridade = util.pytorch_cos_sim(embedding_questao, embedding_pagina).item()\n",
    "        similaridades.append((numero_pagina, similaridade))\n",
    "    \n",
    "    # Ordena as páginas pela similaridade e seleciona as top_n páginas mais relevantes\n",
    "    paginas_relevantes = sorted(similaridades, key=lambda x: x[1], reverse=True)[:top_n]\n",
    "    return paginas_relevantes\n",
    "\n",
    "# Exemplo de uso\n",
    "pdf_path = 'humanas.pdf'  # Substitua pelo caminho do seu PDF\n",
    "embeddings_paginas = gerar_embeddings_paginas(pdf_path)\n",
    "\n",
    "# Exemplo de questão\n",
    "questao = \"Explique as características do Estado Liberal e suas diferenças em relação ao absolutismo.\"\n",
    "\n",
    "# Busca as páginas mais relevantes\n",
    "paginas_relacionadas = encontrar_paginas_relevantes(questao, embeddings_paginas, top_n=5)\n",
    "\n",
    "print(\"Páginas mais relevantes para a questão:\")\n",
    "for pagina, similaridade in paginas_relacionadas:\n",
    "    print(f\"Página {pagina} com similaridade {similaridade:.4f}\")"
   ]
  },
  {
   "cell_type": "code",
   "execution_count": null,
   "metadata": {},
   "outputs": [],
   "source": []
  }
 ],
 "metadata": {
  "kernelspec": {
   "display_name": "pfe",
   "language": "python",
   "name": "python3"
  },
  "language_info": {
   "codemirror_mode": {
    "name": "ipython",
    "version": 3
   },
   "file_extension": ".py",
   "mimetype": "text/x-python",
   "name": "python",
   "nbconvert_exporter": "python",
   "pygments_lexer": "ipython3",
   "version": "3.10.12"
  }
 },
 "nbformat": 4,
 "nbformat_minor": 2
}
